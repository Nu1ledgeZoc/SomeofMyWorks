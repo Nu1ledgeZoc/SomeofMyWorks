{
 "cells": [
  {
   "cell_type": "code",
   "execution_count": 2,
   "metadata": {},
   "outputs": [
    {
     "data": {
      "text/plain": [
       "<pyqpanda.pyQPanda.var at 0x21de0312770>"
      ]
     },
     "execution_count": 2,
     "metadata": {},
     "output_type": "execute_result"
    }
   ],
   "source": [
    "from pyqpanda import *\n",
    "v1=var(1)\n",
    "v1"
   ]
  },
  {
   "cell_type": "code",
   "execution_count": 4,
   "metadata": {
    "collapsed": false,
    "pycharm": {
     "name": "#%%\n"
    }
   },
   "outputs": [
    {
     "ename": "ValueError",
     "evalue": "pos overflow",
     "output_type": "error",
     "traceback": [
      "\u001b[1;31m---------------------------------------------------------------------------\u001b[0m",
      "\u001b[1;31mValueError\u001b[0m                                Traceback (most recent call last)",
      "Input \u001b[1;32mIn [4]\u001b[0m, in \u001b[0;36m<cell line: 4>\u001b[1;34m()\u001b[0m\n\u001b[0;32m      7\u001b[0m prog \u001b[38;5;241m=\u001b[39m pq\u001b[38;5;241m.\u001b[39mcreate_empty_qprog()\n\u001b[0;32m      8\u001b[0m x\u001b[38;5;241m=\u001b[39mmachine\u001b[38;5;241m.\u001b[39mqAlloc_many(\u001b[38;5;241m2\u001b[39m)\n\u001b[1;32m----> 9\u001b[0m a\u001b[38;5;241m=\u001b[39m\u001b[38;5;28;43mlist\u001b[39;49m\u001b[43m(\u001b[49m\u001b[43mx\u001b[49m\u001b[43m)\u001b[49m\n\u001b[0;32m     10\u001b[0m a\n",
      "\u001b[1;31mValueError\u001b[0m: pos overflow"
     ]
    }
   ],
   "source": [
    "import pyqpanda as pq\n",
    "import numpy as np\n",
    "\n",
    "if __name__==\"__main__\":\n",
    "    machine = pq.init_quantum_machine(pq.QMachineType.CPU)\n",
    "    #x = machine.cAlloc_many(8)\n",
    "    prog = pq.create_empty_qprog()\n",
    "    x=machine.qAlloc_many(2)\n",
    "    a=list(x)\n",
    "    a.\n",
    "    #grover_result = pq.Grover_search(data, x == 6, machine, 1)\n"
   ]
  },
  {
   "cell_type": "code",
   "execution_count": 10,
   "metadata": {},
   "outputs": [
    {
     "ename": "MethodError",
     "evalue": "MethodError: no method matching (::Colon)(::Char, ::Int64)\nClosest candidates are:\n  (::Colon)(::T, ::Any, !Matched::T) where T at C:\\Users\\10657\\AppData\\Local\\Programs\\Julia-1.7.2\\share\\julia\\base\\range.jl:40\n  (::Colon)(!Matched::T, ::Real, !Matched::T) where T<:AbstractFloat at C:\\Users\\10657\\AppData\\Local\\Programs\\Julia-1.7.2\\share\\julia\\base\\range.jl:18\n  (::Colon)(!Matched::T, ::T) where T<:Real at C:\\Users\\10657\\AppData\\Local\\Programs\\Julia-1.7.2\\share\\julia\\base\\range.jl:5\n  ...",
     "output_type": "error",
     "traceback": [
      "MethodError: no method matching (::Colon)(::Char, ::Int64)\n",
      "Closest candidates are:\n",
      "  (::Colon)(::T, ::Any, !Matched::T) where T at C:\\Users\\10657\\AppData\\Local\\Programs\\Julia-1.7.2\\share\\julia\\base\\range.jl:40\n",
      "  (::Colon)(!Matched::T, ::Real, !Matched::T) where T<:AbstractFloat at C:\\Users\\10657\\AppData\\Local\\Programs\\Julia-1.7.2\\share\\julia\\base\\range.jl:18\n",
      "  (::Colon)(!Matched::T, ::T) where T<:Real at C:\\Users\\10657\\AppData\\Local\\Programs\\Julia-1.7.2\\share\\julia\\base\\range.jl:5\n",
      "  ...\n",
      "\n",
      "Stacktrace:\n",
      "  [1] top-level scope\n",
      "    @ c:\\Users\\10657\\Documents\\Python Scripts\\quantum\\LinAlg.ipynb:1\n",
      "  [2] eval\n",
      "    @ .\\boot.jl:373 [inlined]\n",
      "  [3] include_string(mapexpr::typeof(REPL.softscope), mod::Module, code::String, filename::String)\n",
      "    @ Base .\\loading.jl:1196\n",
      "  [4] #invokelatest#2\n",
      "    @ .\\essentials.jl:716 [inlined]\n",
      "  [5] invokelatest\n",
      "    @ .\\essentials.jl:714 [inlined]\n",
      "  [6] (::VSCodeServer.var\"#164#165\"{VSCodeServer.NotebookRunCellArguments, String})()\n",
      "    @ VSCodeServer c:\\Users\\10657\\.vscode\\extensions\\julialang.language-julia-1.6.17\\scripts\\packages\\VSCodeServer\\src\\serve_notebook.jl:19\n",
      "  [7] withpath(f::VSCodeServer.var\"#164#165\"{VSCodeServer.NotebookRunCellArguments, String}, path::String)\n",
      "    @ VSCodeServer c:\\Users\\10657\\.vscode\\extensions\\julialang.language-julia-1.6.17\\scripts\\packages\\VSCodeServer\\src\\repl.jl:184\n",
      "  [8] notebook_runcell_request(conn::VSCodeServer.JSONRPC.JSONRPCEndpoint{Base.PipeEndpoint, Base.PipeEndpoint}, params::VSCodeServer.NotebookRunCellArguments)\n",
      "    @ VSCodeServer c:\\Users\\10657\\.vscode\\extensions\\julialang.language-julia-1.6.17\\scripts\\packages\\VSCodeServer\\src\\serve_notebook.jl:13\n",
      "  [9] dispatch_msg(x::VSCodeServer.JSONRPC.JSONRPCEndpoint{Base.PipeEndpoint, Base.PipeEndpoint}, dispatcher::VSCodeServer.JSONRPC.MsgDispatcher, msg::Dict{String, Any})\n",
      "    @ VSCodeServer.JSONRPC c:\\Users\\10657\\.vscode\\extensions\\julialang.language-julia-1.6.17\\scripts\\packages\\JSONRPC\\src\\typed.jl:67\n",
      " [10] serve_notebook(pipename::String, outputchannel_logger::Base.CoreLogging.SimpleLogger; crashreporting_pipename::String)\n",
      "    @ VSCodeServer c:\\Users\\10657\\.vscode\\extensions\\julialang.language-julia-1.6.17\\scripts\\packages\\VSCodeServer\\src\\serve_notebook.jl:136\n",
      " [11] top-level scope\n",
      "    @ c:\\Users\\10657\\.vscode\\extensions\\julialang.language-julia-1.6.17\\scripts\\notebook\\notebook.jl:32\n",
      " [12] include(mod::Module, _path::String)\n",
      "    @ Base .\\Base.jl:418\n",
      " [13] exec_options(opts::Base.JLOptions)\n",
      "    @ Base .\\client.jl:292\n",
      " [14] _start()\n",
      "    @ Base .\\client.jl:495"
     ]
    }
   ],
   "source": [
    "a=['1':1,'2':2]\n",
    "a.values()"
   ]
  }
 ],
 "metadata": {
  "interpreter": {
   "hash": "bfe5137acefe188a373432ccbc3e0a5bc09d395463ea8d8b890c3e5c582833aa"
  },
  "kernelspec": {
   "display_name": "Julia 1.7.2",
   "language": "julia",
   "name": "julia-1.7"
  },
  "language_info": {
   "file_extension": ".jl",
   "mimetype": "application/julia",
   "name": "julia",
   "version": "1.7.2"
  },
  "orig_nbformat": 4
 },
 "nbformat": 4,
 "nbformat_minor": 2
}
