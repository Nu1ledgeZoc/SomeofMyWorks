{
 "cells": [
  {
   "cell_type": "code",
   "execution_count": null,
   "metadata": {
    "collapsed": false,
    "pycharm": {
     "name": "#%%\n"
    }
   },
   "outputs": [],
   "source": [
    "a = [1]\n",
    "b = [1]\n",
    "c = a\n",
    "a = [2]\n",
    "c\n"
   ]
  },
  {
   "cell_type": "code",
   "execution_count": 13,
   "metadata": {
    "pycharm": {
     "name": "#%%\n"
    }
   },
   "outputs": [
    {
     "data": {
      "text/plain": [
       "[(1, 2), (2, 3), (3, 4), (4, 5), (5, 6), (6, 7), (7, 8), (8, 9), (9, 10)]"
      ]
     },
     "execution_count": 13,
     "metadata": {},
     "output_type": "execute_result"
    }
   ],
   "source": [
    "a=range(1,10,1)\n",
    "list(a)\n",
    "b=range(2,11,1)\n",
    "zip(a,b)\n",
    "list(_)"
   ]
  },
  {
   "cell_type": "code",
   "execution_count": 15,
   "metadata": {
    "collapsed": false,
    "pycharm": {
     "name": "#%%\n"
    }
   },
   "outputs": [
    {
     "data": {
      "text/plain": [
       "[1, 2]"
      ]
     },
     "execution_count": 15,
     "metadata": {},
     "output_type": "execute_result"
    }
   ],
   "source": [
    "a=[\n",
    "    1\n",
    "    ,\n",
    "    2\n",
    "]\n",
    "a"
   ]
  },
  {
   "cell_type": "code",
   "execution_count": 17,
   "metadata": {
    "collapsed": false,
    "pycharm": {
     "name": "#%%\n"
    }
   },
   "outputs": [
    {
     "data": {
      "text/plain": [
       "[(0, 1), (1, 2)]"
      ]
     },
     "execution_count": 17,
     "metadata": {},
     "output_type": "execute_result"
    }
   ],
   "source": [
    "enumerate(a)\n",
    "list(_)"
   ]
  },
  {
   "cell_type": "code",
   "execution_count": 20,
   "metadata": {
    "collapsed": false,
    "pycharm": {
     "name": "#%%\n"
    }
   },
   "outputs": [
    {
     "data": {
      "text/plain": [
       "[('a', 1),\n",
       " ('a', 2),\n",
       " ('a', 3),\n",
       " ('a', 4),\n",
       " ('a', 5),\n",
       " ('a', 6),\n",
       " ('a', 7),\n",
       " ('a', 8),\n",
       " ('a', 9),\n",
       " ('b', 1),\n",
       " ('b', 2),\n",
       " ('b', 3),\n",
       " ('b', 4),\n",
       " ('b', 5),\n",
       " ('b', 6),\n",
       " ('b', 7),\n",
       " ('b', 8),\n",
       " ('b', 9),\n",
       " ('c', 1),\n",
       " ('c', 2),\n",
       " ('c', 3),\n",
       " ('c', 4),\n",
       " ('c', 5),\n",
       " ('c', 6),\n",
       " ('c', 7),\n",
       " ('c', 8),\n",
       " ('c', 9)]"
      ]
     },
     "execution_count": 20,
     "metadata": {},
     "output_type": "execute_result"
    }
   ],
   "source": [
    "s1=['a','b','c']\n",
    "s2=list(range(1,10,1))\n",
    "c=[[a,b] for a in s1 for b in s2]\n",
    "c;\n",
    "c=[(a,b) for a in s1 for b in s2]\n",
    "c"
   ]
  },
  {
   "cell_type": "code",
   "execution_count": 22,
   "metadata": {
    "collapsed": false,
    "pycharm": {
     "name": "#%%\n"
    }
   },
   "outputs": [
    {
     "data": {
      "text/plain": [
       "[['a', 1],\n",
       " ['a', 2],\n",
       " ['a', 3],\n",
       " ['a', 4],\n",
       " ['a', 5],\n",
       " ['a', 6],\n",
       " ['a', 7],\n",
       " ['a', 8],\n",
       " ['a', 9],\n",
       " ['b', 1],\n",
       " ['b', 2],\n",
       " ['b', 3],\n",
       " ['b', 4],\n",
       " ['b', 5],\n",
       " ['b', 6],\n",
       " ['b', 7],\n",
       " ['b', 8],\n",
       " ['b', 9],\n",
       " ['c', 1],\n",
       " ['c', 2],\n",
       " ['c', 3],\n",
       " ['c', 4],\n",
       " ['c', 5],\n",
       " ['c', 6],\n",
       " ['c', 7],\n",
       " ['c', 8],\n",
       " ['c', 9]]"
      ]
     },
     "execution_count": 22,
     "metadata": {},
     "output_type": "execute_result"
    }
   ],
   "source": [
    "from random import randint\n",
    "s1=['a','b','c']\n",
    "s2=list(range(1,10,1))\n",
    "c=[[a,b] for a in s1 for b in s2]\n",
    "x=[randint(5,10) for i in range(5)]\n",
    "[[a,b] for a,b in c]"
   ]
  },
  {
   "cell_type": "code",
   "execution_count": 5,
   "metadata": {
    "collapsed": false,
    "pycharm": {
     "name": "#%%\n"
    }
   },
   "outputs": [
    {
     "data": {
      "text/plain": [
       "[1, 0, 1, 0]"
      ]
     },
     "execution_count": 5,
     "metadata": {},
     "output_type": "execute_result"
    }
   ],
   "source": [
    "x=bin(10)\n",
    "x\n",
    "x=format(10,'b')\n",
    "x\n",
    "y=list(x)\n",
    "y=[int(i) for i in y]\n",
    "y\n"
   ]
  },
  {
   "cell_type": "code",
   "execution_count": 8,
   "metadata": {},
   "outputs": [
    {
     "data": {
      "text/plain": [
       "False"
      ]
     },
     "execution_count": 8,
     "metadata": {},
     "output_type": "execute_result"
    }
   ],
   "source": []
  },
  {
   "cell_type": "code",
   "execution_count": 4,
   "metadata": {},
   "outputs": [
    {
     "ename": "TypeError",
     "evalue": "matrix_decompose(): incompatible function arguments. The following argument types are supported:\n    1. (qubits: pyqpanda.pyQPanda.QVec, matrix: List[complex], mode: pyqpanda.pyQPanda.DecompositionMode = DecompositionMode.QR, b_positive_seq: bool = True) -> pyqpanda.pyQPanda.QCircuit\n\nInvoked with: <pyqpanda.pyQPanda.QVec object at 0x00000174AF78C0F0>, [[(1+0.1j), 0.1j], [0.1j, (1+0.1j)]]",
     "output_type": "error",
     "traceback": [
      "\u001b[1;31m---------------------------------------------------------------------------\u001b[0m",
      "\u001b[1;31mTypeError\u001b[0m                                 Traceback (most recent call last)",
      "\u001b[1;32mc:\\Users\\10657\\Documents\\Python Scripts\\quantum\\list.ipynb Cell 9'\u001b[0m in \u001b[0;36m<cell line: 6>\u001b[1;34m()\u001b[0m\n\u001b[0;32m      <a href='vscode-notebook-cell:/c%3A/Users/10657/Documents/Python%20Scripts/quantum/list.ipynb#ch0000010?line=3'>4</a>\u001b[0m machine\u001b[39m=\u001b[39minit_quantum_machine(QMachineType\u001b[39m.\u001b[39mCPU)\n\u001b[0;32m      <a href='vscode-notebook-cell:/c%3A/Users/10657/Documents/Python%20Scripts/quantum/list.ipynb#ch0000010?line=4'>5</a>\u001b[0m qq\u001b[39m=\u001b[39mqAlloc_many(\u001b[39m1\u001b[39m)\n\u001b[1;32m----> <a href='vscode-notebook-cell:/c%3A/Users/10657/Documents/Python%20Scripts/quantum/list.ipynb#ch0000010?line=5'>6</a>\u001b[0m cir\u001b[39m=\u001b[39mmatrix_decompose(qq,a)\n\u001b[0;32m      <a href='vscode-notebook-cell:/c%3A/Users/10657/Documents/Python%20Scripts/quantum/list.ipynb#ch0000010?line=6'>7</a>\u001b[0m out_cir\u001b[39m=\u001b[39mget_matrix(cir)\n\u001b[0;32m      <a href='vscode-notebook-cell:/c%3A/Users/10657/Documents/Python%20Scripts/quantum/list.ipynb#ch0000010?line=7'>8</a>\u001b[0m \u001b[39mprint\u001b[39m(out_cir)\n",
      "\u001b[1;31mTypeError\u001b[0m: matrix_decompose(): incompatible function arguments. The following argument types are supported:\n    1. (qubits: pyqpanda.pyQPanda.QVec, matrix: List[complex], mode: pyqpanda.pyQPanda.DecompositionMode = DecompositionMode.QR, b_positive_seq: bool = True) -> pyqpanda.pyQPanda.QCircuit\n\nInvoked with: <pyqpanda.pyQPanda.QVec object at 0x00000174AF78C0F0>, [[(1+0.1j), 0.1j], [0.1j, (1+0.1j)]]"
     ]
    }
   ],
   "source": [
    "from pyqpanda import *\n",
    "import numpy as np\n",
    "a=[[1+0.1j,0+0.1j],[0+0.1j,1+0.1j]]\n",
    "machine=init_quantum_machine(QMachineType.CPU)\n",
    "qq=qAlloc_many(1)\n",
    "cir=matrix_decompose(qq,a)\n",
    "out_cir=get_matrix(cir)\n",
    "print(out_cir)\n",
    "finalize()"
   ]
  },
  {
   "cell_type": "code",
   "execution_count": 6,
   "metadata": {},
   "outputs": [
    {
     "name": "stdout",
     "output_type": "stream",
     "text": [
      "source matrix : \n",
      "[(0.6477054522122977+0j), (-0.16162176706189357-0.4020495632468249j), (-0.19991615329121998-0.3764618308248643j), (-0.2599957197928922-0.35935248873007863j), (-0.16162176706189363-0.40204956324682495j), (0.7303014482204584-0.4215172444390785j), (-0.15199187936216693+0.09733585496768032j), (-0.22248203136345918-0.1383600597660744j), (-0.19991615329122003-0.3764618308248644j), (-0.15199187936216688+0.09733585496768032j), (0.6826630277354306-0.37517063774206166j), (-0.3078966462928956-0.2900897445133085j), (-0.2599957197928923-0.3593524887300787j), (-0.22248203136345912-0.1383600597660744j), (-0.30789664629289554-0.2900897445133085j), (0.6640994547408099-0.338593803336005j)]\n"
     ]
    },
    {
     "ename": "ValueError",
     "evalue": "\"Non-unitary matrix.\"",
     "output_type": "error",
     "traceback": [
      "\u001b[1;31m---------------------------------------------------------------------------\u001b[0m",
      "\u001b[1;31mValueError\u001b[0m                                Traceback (most recent call last)",
      "\u001b[1;32mc:\\Users\\10657\\Documents\\Python Scripts\\quantum\\list.ipynb Cell 10'\u001b[0m in \u001b[0;36m<cell line: 4>\u001b[1;34m()\u001b[0m\n\u001b[0;32m     <a href='vscode-notebook-cell:/c%3A/Users/10657/Documents/Python%20Scripts/quantum/list.ipynb#ch0000011?line=14'>15</a>\u001b[0m \u001b[39mprint\u001b[39m(\u001b[39m\"\u001b[39m\u001b[39msource matrix : \u001b[39m\u001b[39m\"\u001b[39m)\n\u001b[0;32m     <a href='vscode-notebook-cell:/c%3A/Users/10657/Documents/Python%20Scripts/quantum/list.ipynb#ch0000011?line=15'>16</a>\u001b[0m \u001b[39mprint\u001b[39m(source_matrix)\n\u001b[1;32m---> <a href='vscode-notebook-cell:/c%3A/Users/10657/Documents/Python%20Scripts/quantum/list.ipynb#ch0000011?line=17'>18</a>\u001b[0m out_cir \u001b[39m=\u001b[39m pq\u001b[39m.\u001b[39;49mmatrix_decompose(q, source_matrix)\n\u001b[0;32m     <a href='vscode-notebook-cell:/c%3A/Users/10657/Documents/Python%20Scripts/quantum/list.ipynb#ch0000011?line=18'>19</a>\u001b[0m circuit_matrix \u001b[39m=\u001b[39m pq\u001b[39m.\u001b[39mget_matrix(out_cir)\n\u001b[0;32m     <a href='vscode-notebook-cell:/c%3A/Users/10657/Documents/Python%20Scripts/quantum/list.ipynb#ch0000011?line=20'>21</a>\u001b[0m \u001b[39mprint\u001b[39m(\u001b[39m\"\u001b[39m\u001b[39mthe decomposed matrix : \u001b[39m\u001b[39m\"\u001b[39m)\n",
      "\u001b[1;31mValueError\u001b[0m: \"Non-unitary matrix.\""
     ]
    }
   ],
   "source": []
  },
  {
   "cell_type": "code",
   "execution_count": 22,
   "metadata": {},
   "outputs": [
    {
     "data": {
      "text/plain": [
       "array([[-1.,  1.],\n",
       "       [-1.,  0.]])"
      ]
     },
     "execution_count": 22,
     "metadata": {},
     "output_type": "execute_result"
    }
   ],
   "source": [
    "import numpy as np\n",
    "def pblmReceiver(pblmlist=[[2,2],[-1,2,0],[-1,0]]):\n",
    "    #pblmlist: the given form of pblm\n",
    "    #numa,numb: the number of a,b\n",
    "    #check: for inspector i's j check, if the upper,1,downer,-1,dont,0    \n",
    "    numa=pblmlist[0][0]\n",
    "    numb=pblmlist[0][1]\n",
    "    global check\n",
    "    check=np.zeros([numb,numa])\n",
    "    for i in range(1,numb+1,1):\n",
    "        l=len(pblmlist[i])\n",
    "        for j in range(0,l,1):\n",
    "            v=pblmlist[i][j]\n",
    "            absv=np.abs(v)\n",
    "            if v!=0:\n",
    "                check[i-1][absv-1]=  v//absv\n",
    "            else:\n",
    "                break\n",
    "\n",
    "    return numa,numb,check\n",
    "a,b,cc=pblmReceiver()\n",
    "cc"
   ]
  },
  {
   "cell_type": "code",
   "execution_count": 24,
   "metadata": {},
   "outputs": [
    {
     "data": {
      "text/plain": [
       "4"
      ]
     },
     "execution_count": 24,
     "metadata": {},
     "output_type": "execute_result"
    }
   ],
   "source": [
    "np.size([[1,2],[1,1]])"
   ]
  },
  {
   "cell_type": "code",
   "execution_count": null,
   "metadata": {},
   "outputs": [],
   "source": [
    "            absv=np.abs(v)\n",
    "            if v!=0:\n",
    "                check[i-1][absv-1]=  v//absv\n",
    "            else:\n",
    "                break\n",
    "\n",
    "    return numa,numb,check\n",
    "a,b,cc=pblmReceiver()\n",
    "cc"
   ]
  },
  {
   "cell_type": "code",
   "execution_count": null,
   "metadata": {},
   "outputs": [],
   "source": [
    "import numpy as np\n",
    "\n",
    "if __name__==\"__main__\":\n",
    "\n",
    "    machine = pq.init_quantum_machine(pq.QMachineType.CPU)\n",
    "    q = machine.qAlloc_many(2)\n",
    "    c = machine.cAlloc_many(2)\n",
    "\n",
    "    source_matrix = [(0.6477054522122977+0j), (-0.16162176706189357-0.4020495632468249j), (-0.19991615329121998-0.3764618308248643j), (-0.2599957197928922-0.35935248873007863j),\n",
    "                    (-0.16162176706189363-0.40204956324682495j), (0.7303014482204584-0.4215172444390785j), (-0.15199187936216693+0.09733585496768032j), (-0.22248203136345918-0.1383600597660744j),\n",
    "                    (-0.19991615329122003-0.3764618308248644j), (-0.15199187936216688+0.09733585496768032j), (0.6826630277354306-0.37517063774206166j), (-0.3078966462928956-0.2900897445133085j),\n",
    "                    (-0.2599957197928923-0.3593524887300787j), (-0.22248203136345912-0.1383600597660744j), (-0.30789664629289554-0.2900897445133085j), (0.6640994547408099-0.338593803336005j)]\n",
    "\n",
    "    print(\"source matrix : \")\n",
    "    print(source_matrix)\n",
    "\n",
    "    out_cir = pq.matrix_decompose(q, source_matrix)\n",
    "    circuit_matrix = pq.get_matrix(out_cir)\n",
    "\n",
    "    print(\"the decomposed matrix : \")\n",
    "    print(circuit_matrix)\n",
    "\n",
    "    source_matrix = np.round(np.array(source_matrix),3)\n",
    "    circuit_matrix = np.round(np.array(circuit_matrix),3)\n",
    "\n",
    "    if np.all(source_matrix == circuit_matrix):\n",
    "        print('matrix decompose ok !')\n",
    "    else:\n",
    "        print('matrix decompose false !')"
   ]
  },
  {
   "cell_type": "code",
   "execution_count": 29,
   "metadata": {},
   "outputs": [
    {
     "data": {
      "text/plain": [
       "0"
      ]
     },
     "execution_count": 29,
     "metadata": {},
     "output_type": "execute_result"
    }
   ],
   "source": [
    "np.sum(np.array([False,False]))\n"
   ]
  },
  {
   "cell_type": "code",
   "execution_count": 31,
   "metadata": {},
   "outputs": [
    {
     "data": {
      "text/plain": [
       "[[False, False], [False, False]]"
      ]
     },
     "execution_count": 31,
     "metadata": {},
     "output_type": "execute_result"
    }
   ],
   "source": [
    "numa=2\n",
    "iflag=[[False,False] for i in range(0,numa)]\n",
    "iflag"
   ]
  },
  {
   "cell_type": "code",
   "execution_count": 99,
   "metadata": {},
   "outputs": [
    {
     "name": "stdout",
     "output_type": "stream",
     "text": [
      "000:2.8120495924909834e-33\n",
      "001:9.373498641636607e-34\n",
      "010:0.7500000000000001\n",
      "011:0.24999999999999994\n",
      "100:0.0\n",
      "101:0.0\n",
      "110:0.0\n",
      "111:0.0\n"
     ]
    }
   ],
   "source": [
    "import pyqpanda as pq\n",
    "import numpy as np\n",
    "if __name__ == \"__main__\":\n",
    "\n",
    "    machine = pq.init_quantum_machine(pq.QMachineType.CPU)\n",
    "    qubits = machine.qAlloc_many(3)\n",
    "    cbit=machine.cAlloc_many(1)\n",
    "    \n",
    "    control_qubits = [qubits[0], qubits[1]]\n",
    "    prog = pq.create_empty_qprog()\n",
    "\n",
    "    # 构建量子程序\n",
    "    prog << pq.RX(qubits[0],np.pi/3) \n",
    "    prog << pq.RZ(qubits[0],np.pi/8)\n",
    "    prog << pq.RX(qubits[1],np.pi)\n",
    "    \n",
    "    \n",
    "            \n",
    "        # .insert(pq.H(qubits[0]).dagger()) \\\n",
    "        # .insert(pq.X(qubits[2]).control(control_qubits))\n",
    "\n",
    "    # 对量子程序进行概率测量\n",
    "    result = pq.prob_run_dict(prog, qubits, -1)\n",
    "    pq.destroy_quantum_machine(machine)\n",
    "\n",
    "    # 打印测量结果\n",
    "    for key in result:\n",
    "        print(key+\":\"+str(result[key]))\n",
    "        \n"
   ]
  },
  {
   "cell_type": "code",
   "execution_count": 87,
   "metadata": {},
   "outputs": [
    {
     "data": {
      "text/plain": [
       "[1, 0, 1]"
      ]
     },
     "execution_count": 87,
     "metadata": {},
     "output_type": "execute_result"
    }
   ],
   "source": [
    "def changelist(l):\n",
    "    l[1]=0\n",
    "    \n",
    "l=[1,1,1]\n",
    "changelist(l)\n",
    "l"
   ]
  },
  {
   "cell_type": "code",
   "execution_count": 1,
   "metadata": {},
   "outputs": [
    {
     "name": "stdout",
     "output_type": "stream",
     "text": [
      "[[1, 2, 3]]\n"
     ]
    }
   ],
   "source": [
    "from typing import List\n",
    "a=[[1,2,3]]\n",
    "def solution(input: List[List[int]]) -> List[List[int]]:\n",
    "    return input\n",
    "print(solution(a))\n"
   ]
  }
 ],
 "metadata": {
  "interpreter": {
   "hash": "8ec00a5a907ee57e99b84ae85360a72eed1d2ef75f9df036dd64ba7fcb304242"
  },
  "kernelspec": {
   "display_name": "PyCharm (Python Scripts)",
   "language": "python",
   "name": "python3"
  },
  "language_info": {
   "codemirror_mode": {
    "name": "ipython",
    "version": 3
   },
   "file_extension": ".py",
   "mimetype": "text/x-python",
   "name": "python",
   "nbconvert_exporter": "python",
   "pygments_lexer": "ipython3",
   "version": "3.9.12"
  },
  "orig_nbformat": 4
 },
 "nbformat": 4,
 "nbformat_minor": 2
}
